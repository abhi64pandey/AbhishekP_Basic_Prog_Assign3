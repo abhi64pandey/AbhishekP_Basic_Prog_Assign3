{
 "cells": [
  {
   "cell_type": "code",
   "execution_count": null,
   "id": "b75cbf66",
   "metadata": {},
   "outputs": [],
   "source": [
    "Q1: Write a Python Program to Check if a Number is Positive, Negative or Zero?\n",
    "    \n",
    "Solution:   "
   ]
  },
  {
   "cell_type": "code",
   "execution_count": 6,
   "id": "724be733",
   "metadata": {},
   "outputs": [
    {
     "name": "stdout",
     "output_type": "stream",
     "text": [
      "Enter the number: -87\n",
      "Negative Number\n"
     ]
    }
   ],
   "source": [
    "num = float(input(\"Enter the number: \"))\n",
    "if num>0:\n",
    "    print(\"Positive number\")\n",
    "elif num == 0:\n",
    "    print(\"Zero\")\n",
    "else:\n",
    "    print(\"Negative Number\")"
   ]
  },
  {
   "cell_type": "code",
   "execution_count": null,
   "id": "5d4015b0",
   "metadata": {},
   "outputs": [],
   "source": [
    "Q2: Write a Python Program to Check if a Number is Odd or Even?\n",
    "\n",
    "Solution:"
   ]
  },
  {
   "cell_type": "code",
   "execution_count": 9,
   "id": "cf9356dd",
   "metadata": {},
   "outputs": [
    {
     "name": "stdout",
     "output_type": "stream",
     "text": [
      "Enter a number: 12\n",
      "12 is even\n"
     ]
    }
   ],
   "source": [
    "# A number is even if division by 2 gives a remainder of 0.\n",
    "# If the remainder is 1, then it is an odd number.\n",
    "\n",
    "num = int(input(\"Enter a number: \"))\n",
    "if (num % 2) == 0:\n",
    "   print(\"{0} is even\".format(num))\n",
    "else:\n",
    "   print(\"{0} is Odd\".format(num))"
   ]
  },
  {
   "cell_type": "code",
   "execution_count": null,
   "id": "fa61d998",
   "metadata": {},
   "outputs": [],
   "source": [
    "Q3: Write a Python Program to Check Leap Year?\n",
    "\n",
    "Solution:"
   ]
  },
  {
   "cell_type": "code",
   "execution_count": 5,
   "id": "b90038be",
   "metadata": {},
   "outputs": [
    {
     "name": "stdout",
     "output_type": "stream",
     "text": [
      "Enter the number: 2000\n",
      "Given Year is a leap Year\n"
     ]
    }
   ],
   "source": [
    "def CheckLeap(Year):  \n",
    "  # Checking if the given year is leap year  \n",
    "  if((Year % 400 == 0) or  \n",
    "     (Year % 100 != 0) and  \n",
    "     (Year % 4 == 0)):   \n",
    "    print(\"Given Year is a leap Year\");  \n",
    "  \n",
    "  else:  \n",
    "    print (\"Given Year is not a leap Year\")  \n",
    "\n",
    "Year = int(input(\"Enter the number: \")) \n",
    "\n",
    "CheckLeap(Year)"
   ]
  },
  {
   "cell_type": "code",
   "execution_count": null,
   "id": "3f605242",
   "metadata": {},
   "outputs": [],
   "source": [
    "Q4: Write a Python Program to Check Prime Number?\n",
    "    \n",
    "Solution:"
   ]
  },
  {
   "cell_type": "code",
   "execution_count": 10,
   "id": "9fad366a",
   "metadata": {},
   "outputs": [
    {
     "name": "stdout",
     "output_type": "stream",
     "text": [
      "Enter the number: 2\n",
      "2 is a prime number\n"
     ]
    }
   ],
   "source": [
    "num = int(input(\"Enter the number: \"))\n",
    "if num>1:\n",
    "    for i in range(2, int(num/2)+1):\n",
    "        if (num%i) == 0:\n",
    "            print(num, \"is not prime number\")\n",
    "            break\n",
    "    else:\n",
    "        print(num, \"is a prime number\")"
   ]
  },
  {
   "cell_type": "code",
   "execution_count": null,
   "id": "70a31585",
   "metadata": {},
   "outputs": [],
   "source": [
    "Q5: Write a Python Program to Print all Prime Numbers in an Interval of 1-10000?\n",
    "    \n",
    "Solution:"
   ]
  },
  {
   "cell_type": "code",
   "execution_count": 11,
   "id": "642b7da9",
   "metadata": {},
   "outputs": [
    {
     "name": "stdout",
     "output_type": "stream",
     "text": [
      "Prime numbers between 100 and 200 are:\n",
      "101\n",
      "103\n",
      "107\n",
      "109\n",
      "113\n",
      "127\n",
      "131\n",
      "137\n",
      "139\n",
      "149\n",
      "151\n",
      "157\n",
      "163\n",
      "167\n",
      "173\n",
      "179\n",
      "181\n",
      "191\n",
      "193\n",
      "197\n",
      "199\n"
     ]
    }
   ],
   "source": [
    "lower = 100\n",
    "upper = 200\n",
    "\n",
    "print(\"Prime numbers between\", lower, \"and\", upper, \"are:\")\n",
    "\n",
    "for num in range(lower, upper + 1):\n",
    "   # all prime numbers are greater than 1\n",
    "   if num > 1:\n",
    "       for i in range(2, num):\n",
    "           if (num % i) == 0:\n",
    "               break\n",
    "       else:\n",
    "           print(num)"
   ]
  },
  {
   "cell_type": "code",
   "execution_count": null,
   "id": "18371afa",
   "metadata": {},
   "outputs": [],
   "source": []
  }
 ],
 "metadata": {
  "kernelspec": {
   "display_name": "Python 3 (ipykernel)",
   "language": "python",
   "name": "python3"
  },
  "language_info": {
   "codemirror_mode": {
    "name": "ipython",
    "version": 3
   },
   "file_extension": ".py",
   "mimetype": "text/x-python",
   "name": "python",
   "nbconvert_exporter": "python",
   "pygments_lexer": "ipython3",
   "version": "3.9.7"
  }
 },
 "nbformat": 4,
 "nbformat_minor": 5
}
